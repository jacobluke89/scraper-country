{
 "cells": [
  {
   "cell_type": "code",
   "execution_count": 9,
   "id": "initial_id",
   "metadata": {
    "collapsed": true,
    "ExecuteTime": {
     "end_time": "2023-11-29T23:03:04.933658Z",
     "start_time": "2023-11-29T23:03:04.918434Z"
    }
   },
   "outputs": [],
   "source": [
    "from data_cleaniser.scraper import get_wiki_page\n",
    "from data_cleaniser.data_cleaner import data_cleaner"
   ]
  },
  {
   "cell_type": "code",
   "execution_count": 16,
   "outputs": [],
   "source": [
    "dict_of_urls = {\n",
    "    \"pop_density\": \"https://en.wikipedia.org/wiki/List_of_countries_and_dependencies_by_population_density\",\n",
    "    \"pop_percent\": \"https://en.wikipedia.org/wiki/List_of_countries_and_dependencies_by_population\",\n",
    "    \"pop_by_age\": \"https://en.wikipedia.org/wiki/List_of_countries_by_age_structure\",\n",
    "    \"mortality_inf_u_5\": \"https://en.wikipedia.org/wiki/List_of_countries_by_infant_and_under-five_mortality_rates\",\n",
    "    \"literacy_rate\": \"https://en.wikipedia.org/wiki/List_of_countries_by_literacy_rate\",  # gender gap shown here\n",
    "    \"GDP_PC\": \"https://en.wikipedia.org/wiki/List_of_countries_by_GDP_(PPP)_per_capita\",\n",
    "    \"min_wage\":  \"https://en.wikipedia.org/wiki/List_of_countries_by_minimum_wage\",\n",
    "    \"gini_coef\": \"https://en.wikipedia.org/wiki/List_of_countries_by_income_equality\"\n",
    "}\n"
   ],
   "metadata": {
    "collapsed": false,
    "ExecuteTime": {
     "end_time": "2023-11-29T23:04:38.714939Z",
     "start_time": "2023-11-29T23:04:38.705884Z"
    }
   },
   "id": "9920b56c122445dc"
  },
  {
   "cell_type": "code",
   "execution_count": 11,
   "outputs": [
    {
     "name": "stdout",
     "output_type": "stream",
     "text": [
      "0\n",
      "{0:                     Location  Density /km2  Density /mi2  Population  \\\n",
      "0                        NaN           NaN           NaN         NaN   \n",
      "1            Macau * (China)      21000.00     54000.000    704150.0   \n",
      "2                   Monaco *      18000.00     47000.000     36298.0   \n",
      "3                Singapore *       8250.00     21400.000   6014723.0   \n",
      "4        Hong Kong * (China)       6725.00     17420.000   7491609.0   \n",
      "..                       ...           ...           ...         ...   \n",
      "248         Western Sahara *          2.00         5.200    587259.0   \n",
      "249               Mongolia *          2.00         5.200   3447157.0   \n",
      "250  Pitcairn Islands * (UK)          0.90         2.300        40.0   \n",
      "251  Falkland Islands * (UK)          0.30         0.780      3791.0   \n",
      "252    Greenland * (Denmark)          0.03         0.078     56643.0   \n",
      "\n",
      "      Area km2   Area mi2 Unnamed: 6  \n",
      "0          NaN        NaN        NaN  \n",
      "1         33.0      13.00        NaN  \n",
      "2          2.0       0.77        [3]  \n",
      "3        729.0     281.00        NaN  \n",
      "4       1114.0     430.00        NaN  \n",
      "..         ...        ...        ...  \n",
      "248   266000.0  103000.00        NaN  \n",
      "249  1564116.0  603909.00        NaN  \n",
      "250       47.0      18.00       [24]  \n",
      "251    12173.0    4700.00        NaN  \n",
      "252  2166086.0  836330.00        NaN  \n",
      "\n",
      "[253 rows x 7 columns]}\n",
      "https://en.wikipedia.org/wiki/List_of_countries_and_dependencies_by_population_density passed!\n",
      "0\n",
      "1\n",
      "2\n",
      "{0:                Country Youth (15 to 24)         Adult (25+)          \\\n",
      "               Country             Rate    Year        Rate    Year   \n",
      "0        Afghanistan *             47.0  2011.0        31.7  2011.0   \n",
      "1            Albania *             99.2  2012.0        97.2  2012.0   \n",
      "2            Algeria *             93.8  2008.0        75.1  2008.0   \n",
      "3     American Samoa *             97.7  1980.0        97.3  1980.0   \n",
      "4            Andorra *              NaN     NaN         NaN     NaN   \n",
      "..                 ...              ...     ...         ...     ...   \n",
      "229  Wallis and Futuna              NaN     NaN         NaN     NaN   \n",
      "230     Western Sahara              NaN     NaN         NaN     NaN   \n",
      "231            Yemen *             77.0  2004.0        54.1  2004.0   \n",
      "232           Zambia *             88.7  2010.0        83.0  2010.0   \n",
      "233         Zimbabwe *             90.4  2014.0        88.7  2014.0   \n",
      "\n",
      "    Elderly (65+)         Youth Gender Parity Index          \n",
      "             Rate    Year                      Rate    Year  \n",
      "0            20.3  2011.0                       0.5  2011.0  \n",
      "1            86.9  2012.0                       1.0  2012.0  \n",
      "2            19.5  2008.0                       1.0  2008.0  \n",
      "3            92.7  1980.0                       1.0  1980.0  \n",
      "4             NaN     NaN                       NaN     NaN  \n",
      "..            ...     ...                       ...     ...  \n",
      "229           NaN     NaN                       NaN     NaN  \n",
      "230           NaN     NaN                       NaN     NaN  \n",
      "231          13.7  2004.0                       0.7  2004.0  \n",
      "232          52.3  2010.0                       0.9  2010.0  \n",
      "233          81.1  2014.0                       1.1  2014.0  \n",
      "\n",
      "[234 rows x 9 columns], 1:            Country Literacy rate[10][11]                                 \n",
      "           Country                 Total    Male  Female Gender Gap  Year\n",
      "0    Afghanistan *                 37.3%   52.1%   22.6%      29.5%  2021\n",
      "1        Albania *                 98.1%   98.5%   97.8%       0.7%  2018\n",
      "2        Algeria *                 81.4%   87.4%   75.3%      12.1%  2018\n",
      "3        Andorra *                100.0%  100.0%  100.0%       0.0%  2016\n",
      "4         Angola *                 71.1%   82.0%   60.7%      21.3%  2015\n",
      "..             ...                   ...     ...     ...        ...   ...\n",
      "191      Vietnam *                 95.8%   97.0%   94.6%       2.4%  2019\n",
      "192        Yemen *                 70.1%   85.1%   55.0%      30.1%  2015\n",
      "193       Zambia *                 86.7%   90.6%   83.1%       7.5%  2018\n",
      "194     Zimbabwe *                 86.5%   88.5%   84.6%       3.9%  2015\n",
      "195          World                 86.7%   90.1%   83.3%       6.8%  2020\n",
      "\n",
      "[196 rows x 6 columns], 2:         Territory Literacy rate (all) Male literacy Female literacy  \\\n",
      "0           Aruba               97.5%         97.5%           97.5%   \n",
      "1  Cayman Islands               98.9%         98.7%           99.0%   \n",
      "2      Guadeloupe               96.5%         96.4%           96.6%   \n",
      "3            Guam               99.8%         99.8%           99.8%   \n",
      "4          Kosovo               91.9%         96.6%           87.5%   \n",
      "5           Macau               96.2%         98.0%           94.6%   \n",
      "6      Martinique               97.0%         97.6%           96.4%   \n",
      "7   New Caledonia               96.9%         97.3%           96.5%   \n",
      "8     Puerto Rico               93.3%         92.8%           93.8%   \n",
      "9         Réunion               93.9%         93.2%           94.5%   \n",
      "\n",
      "  Gender difference     Year  \\\n",
      "0              0.0%  2015[1]   \n",
      "1             -0.3%  2007[1]   \n",
      "2             -0.2%  2015[1]   \n",
      "3              0.0%  2015[1]   \n",
      "4              9.1%  2003[2]   \n",
      "5              3.4%  2015[1]   \n",
      "6              1.2%  2015[1]   \n",
      "7              0.8%  2015[1]   \n",
      "8             -1.0%  2015[1]   \n",
      "9             -1.3%  2015[1]   \n",
      "\n",
      "                                               Notes  \n",
      "0  A constituent country of the Kingdom of the Ne...  \n",
      "1       An overseas territory of the United Kingdom.  \n",
      "2              Overseas region/department of France.  \n",
      "3  An unincorporated and organized territory of t...  \n",
      "4  Member of two UN specialized agencies (World B...  \n",
      "5          A special administrative region of China.  \n",
      "6              Overseas region/department of France.  \n",
      "7              Overseas region/department of France.  \n",
      "8     Unincorporated territory of the United States.  \n",
      "9              Overseas region/department of France.  }\n",
      "https://en.wikipedia.org/wiki/List_of_countries_by_literacy_rate passed!\n"
     ]
    }
   ],
   "source": [
    "dict_of_df = {}\n",
    "for k, v in dict_of_urls.items():\n",
    "    try:\n",
    "        df = get_wiki_page(v)\n",
    "        print(df)\n",
    "        df = data_cleaner(df)\n",
    "        dict_of_df[k] = df\n",
    "        print(f'{v} passed!')\n",
    "    except:\n",
    "        print(f'{k} failed')"
   ],
   "metadata": {
    "collapsed": false,
    "ExecuteTime": {
     "end_time": "2023-11-29T23:03:07.070997Z",
     "start_time": "2023-11-29T23:03:05.885414Z"
    }
   },
   "id": "ebcfded4ab7b8942"
  },
  {
   "cell_type": "code",
   "execution_count": 15,
   "outputs": [
    {
     "data": {
      "text/plain": "{0:                Country Youth (15 to 24)         Adult (25+)          \\\n                Country             Rate    Year        Rate    Year   \n 0        Afghanistan               47.0  2011.0        31.7  2011.0   \n 1            Albania               99.2  2012.0        97.2  2012.0   \n 2            Algeria               93.8  2008.0        75.1  2008.0   \n 3     American Samoa               97.7  1980.0        97.3  1980.0   \n 4            Andorra                NaN     NaN         NaN     NaN   \n ..                 ...              ...     ...         ...     ...   \n 229  Wallis and Futuna              NaN     NaN         NaN     NaN   \n 230     Western Sahara              NaN     NaN         NaN     NaN   \n 231            Yemen               77.0  2004.0        54.1  2004.0   \n 232           Zambia               88.7  2010.0        83.0  2010.0   \n 233         Zimbabwe               90.4  2014.0        88.7  2014.0   \n \n     Elderly (65+)         Youth Gender Parity Index          \n              Rate    Year                      Rate    Year  \n 0            20.3  2011.0                       0.5  2011.0  \n 1            86.9  2012.0                       1.0  2012.0  \n 2            19.5  2008.0                       1.0  2008.0  \n 3            92.7  1980.0                       1.0  1980.0  \n 4             NaN     NaN                       NaN     NaN  \n ..            ...     ...                       ...     ...  \n 229           NaN     NaN                       NaN     NaN  \n 230           NaN     NaN                       NaN     NaN  \n 231          13.7  2004.0                       0.7  2004.0  \n 232          52.3  2010.0                       0.9  2010.0  \n 233          81.1  2014.0                       1.1  2014.0  \n \n [234 rows x 9 columns],\n 1:            Country Literacy rate[10][11]                                 \n            Country                 Total    Male  Female Gender Gap  Year\n 0    Afghanistan                   37.3    52.1    22.6       29.5   2021\n 1        Albania                   98.1    98.5    97.8        0.7   2018\n 2        Algeria                   81.4    87.4    75.3       12.1   2018\n 3        Andorra                  100.0   100.0   100.0        0.0   2016\n 4         Angola                   71.1    82.0    60.7       21.3   2015\n ..             ...                   ...     ...     ...        ...   ...\n 191      Vietnam                   95.8    97.0    94.6        2.4   2019\n 192        Yemen                   70.1    85.1    55.0       30.1   2015\n 193       Zambia                   86.7    90.6    83.1        7.5   2018\n 194     Zimbabwe                   86.5    88.5    84.6        3.9   2015\n 195          World                 86.7    90.1    83.3        6.8   2020\n \n [196 rows x 6 columns],\n 2:         Territory Literacy rate (all) Male literacy Female literacy  \\\n 0           Aruba               97.5          97.5            97.5    \n 1  Cayman Islands               98.9          98.7            99.0    \n 2      Guadeloupe               96.5          96.4            96.6    \n 3            Guam               99.8          99.8            99.8    \n 4          Kosovo               91.9          96.6            87.5    \n 5           Macau               96.2          98.0            94.6    \n 6      Martinique               97.0          97.6            96.4    \n 7   New Caledonia               96.9          97.3            96.5    \n 8     Puerto Rico               93.3          92.8            93.8    \n 9         Réunion               93.9          93.2            94.5    \n \n   Gender difference     Year  \\\n 0              0.0   2015[1]   \n 1             -0.3   2007[1]   \n 2             -0.2   2015[1]   \n 3              0.0   2015[1]   \n 4              9.1   2003[2]   \n 5              3.4   2015[1]   \n 6              1.2   2015[1]   \n 7              0.8   2015[1]   \n 8             -1.0   2015[1]   \n 9             -1.3   2015[1]   \n \n                                                Notes  \n 0  A constituent country of the Kingdom of the Ne...  \n 1       An overseas territory of the United Kingdom.  \n 2              Overseas region/department of France.  \n 3  An unincorporated and organized territory of t...  \n 4  Member of two UN specialized agencies  World B...  \n 5          A special administrative region of China.  \n 6              Overseas region/department of France.  \n 7              Overseas region/department of France.  \n 8     Unincorporated territory of the United States.  \n 9              Overseas region/department of France.  }"
     },
     "execution_count": 15,
     "metadata": {},
     "output_type": "execute_result"
    }
   ],
   "source": [
    "dict_of_df['literacy_rate']"
   ],
   "metadata": {
    "collapsed": false,
    "ExecuteTime": {
     "end_time": "2023-11-29T23:04:06.557705Z",
     "start_time": "2023-11-29T23:04:06.542669Z"
    }
   },
   "id": "50180182969d6928"
  },
  {
   "cell_type": "code",
   "execution_count": 4,
   "outputs": [],
   "source": [
    "dict_of_df = get_wiki_page(dict_of_urls[\"literacy_rate\"])"
   ],
   "metadata": {
    "collapsed": false,
    "ExecuteTime": {
     "end_time": "2023-11-29T22:52:56.796570Z",
     "start_time": "2023-11-29T22:52:56.038426Z"
    }
   },
   "id": "5d753ef4a56494c8"
  },
  {
   "cell_type": "code",
   "execution_count": 11,
   "outputs": [
    {
     "data": {
      "text/plain": "           Country Literacy rate[10][11]                                 \n           Country                 Total    Male  Female Gender Gap  Year\n0    Afghanistan *                 37.3%   52.1%   22.6%      29.5%  2021\n1        Albania *                 98.1%   98.5%   97.8%       0.7%  2018\n2        Algeria *                 81.4%   87.4%   75.3%      12.1%  2018\n3        Andorra *                100.0%  100.0%  100.0%       0.0%  2016\n4         Angola *                 71.1%   82.0%   60.7%      21.3%  2015\n..             ...                   ...     ...     ...        ...   ...\n191      Vietnam *                 95.8%   97.0%   94.6%       2.4%  2019\n192        Yemen *                 70.1%   85.1%   55.0%      30.1%  2015\n193       Zambia *                 86.7%   90.6%   83.1%       7.5%  2018\n194     Zimbabwe *                 86.5%   88.5%   84.6%       3.9%  2015\n195          World                 86.7%   90.1%   83.3%       6.8%  2020\n\n[196 rows x 6 columns]",
      "text/html": "<div>\n<style scoped>\n    .dataframe tbody tr th:only-of-type {\n        vertical-align: middle;\n    }\n\n    .dataframe tbody tr th {\n        vertical-align: top;\n    }\n\n    .dataframe thead tr th {\n        text-align: left;\n    }\n</style>\n<table border=\"1\" class=\"dataframe\">\n  <thead>\n    <tr>\n      <th></th>\n      <th>Country</th>\n      <th colspan=\"5\" halign=\"left\">Literacy rate[10][11]</th>\n    </tr>\n    <tr>\n      <th></th>\n      <th>Country</th>\n      <th>Total</th>\n      <th>Male</th>\n      <th>Female</th>\n      <th>Gender Gap</th>\n      <th>Year</th>\n    </tr>\n  </thead>\n  <tbody>\n    <tr>\n      <th>0</th>\n      <td>Afghanistan *</td>\n      <td>37.3%</td>\n      <td>52.1%</td>\n      <td>22.6%</td>\n      <td>29.5%</td>\n      <td>2021</td>\n    </tr>\n    <tr>\n      <th>1</th>\n      <td>Albania *</td>\n      <td>98.1%</td>\n      <td>98.5%</td>\n      <td>97.8%</td>\n      <td>0.7%</td>\n      <td>2018</td>\n    </tr>\n    <tr>\n      <th>2</th>\n      <td>Algeria *</td>\n      <td>81.4%</td>\n      <td>87.4%</td>\n      <td>75.3%</td>\n      <td>12.1%</td>\n      <td>2018</td>\n    </tr>\n    <tr>\n      <th>3</th>\n      <td>Andorra *</td>\n      <td>100.0%</td>\n      <td>100.0%</td>\n      <td>100.0%</td>\n      <td>0.0%</td>\n      <td>2016</td>\n    </tr>\n    <tr>\n      <th>4</th>\n      <td>Angola *</td>\n      <td>71.1%</td>\n      <td>82.0%</td>\n      <td>60.7%</td>\n      <td>21.3%</td>\n      <td>2015</td>\n    </tr>\n    <tr>\n      <th>...</th>\n      <td>...</td>\n      <td>...</td>\n      <td>...</td>\n      <td>...</td>\n      <td>...</td>\n      <td>...</td>\n    </tr>\n    <tr>\n      <th>191</th>\n      <td>Vietnam *</td>\n      <td>95.8%</td>\n      <td>97.0%</td>\n      <td>94.6%</td>\n      <td>2.4%</td>\n      <td>2019</td>\n    </tr>\n    <tr>\n      <th>192</th>\n      <td>Yemen *</td>\n      <td>70.1%</td>\n      <td>85.1%</td>\n      <td>55.0%</td>\n      <td>30.1%</td>\n      <td>2015</td>\n    </tr>\n    <tr>\n      <th>193</th>\n      <td>Zambia *</td>\n      <td>86.7%</td>\n      <td>90.6%</td>\n      <td>83.1%</td>\n      <td>7.5%</td>\n      <td>2018</td>\n    </tr>\n    <tr>\n      <th>194</th>\n      <td>Zimbabwe *</td>\n      <td>86.5%</td>\n      <td>88.5%</td>\n      <td>84.6%</td>\n      <td>3.9%</td>\n      <td>2015</td>\n    </tr>\n    <tr>\n      <th>195</th>\n      <td>World</td>\n      <td>86.7%</td>\n      <td>90.1%</td>\n      <td>83.3%</td>\n      <td>6.8%</td>\n      <td>2020</td>\n    </tr>\n  </tbody>\n</table>\n<p>196 rows × 6 columns</p>\n</div>"
     },
     "execution_count": 11,
     "metadata": {},
     "output_type": "execute_result"
    }
   ],
   "source": [
    "dict_of_df[1]"
   ],
   "metadata": {
    "collapsed": false,
    "ExecuteTime": {
     "end_time": "2023-11-29T22:53:40.787400Z",
     "start_time": "2023-11-29T22:53:40.775265Z"
    }
   },
   "id": "830fac2713c74667"
  },
  {
   "cell_type": "code",
   "execution_count": 7,
   "outputs": [],
   "source": [
    "df = data_cleaner(dict_of_df)"
   ],
   "metadata": {
    "collapsed": false,
    "ExecuteTime": {
     "end_time": "2023-11-29T22:53:11.242186Z",
     "start_time": "2023-11-29T22:53:11.237344Z"
    }
   },
   "id": "a4840a6ce8c30ca7"
  },
  {
   "cell_type": "code",
   "execution_count": 10,
   "outputs": [
    {
     "data": {
      "text/plain": "           Country Literacy rate[10][11]                                 \n           Country                 Total    Male  Female Gender Gap  Year\n0    Afghanistan                   37.3    52.1    22.6       29.5   2021\n1        Albania                   98.1    98.5    97.8        0.7   2018\n2        Algeria                   81.4    87.4    75.3       12.1   2018\n3        Andorra                  100.0   100.0   100.0        0.0   2016\n4         Angola                   71.1    82.0    60.7       21.3   2015\n..             ...                   ...     ...     ...        ...   ...\n191      Vietnam                   95.8    97.0    94.6        2.4   2019\n192        Yemen                   70.1    85.1    55.0       30.1   2015\n193       Zambia                   86.7    90.6    83.1        7.5   2018\n194     Zimbabwe                   86.5    88.5    84.6        3.9   2015\n195          World                 86.7    90.1    83.3        6.8   2020\n\n[196 rows x 6 columns]",
      "text/html": "<div>\n<style scoped>\n    .dataframe tbody tr th:only-of-type {\n        vertical-align: middle;\n    }\n\n    .dataframe tbody tr th {\n        vertical-align: top;\n    }\n\n    .dataframe thead tr th {\n        text-align: left;\n    }\n</style>\n<table border=\"1\" class=\"dataframe\">\n  <thead>\n    <tr>\n      <th></th>\n      <th>Country</th>\n      <th colspan=\"5\" halign=\"left\">Literacy rate[10][11]</th>\n    </tr>\n    <tr>\n      <th></th>\n      <th>Country</th>\n      <th>Total</th>\n      <th>Male</th>\n      <th>Female</th>\n      <th>Gender Gap</th>\n      <th>Year</th>\n    </tr>\n  </thead>\n  <tbody>\n    <tr>\n      <th>0</th>\n      <td>Afghanistan</td>\n      <td>37.3</td>\n      <td>52.1</td>\n      <td>22.6</td>\n      <td>29.5</td>\n      <td>2021</td>\n    </tr>\n    <tr>\n      <th>1</th>\n      <td>Albania</td>\n      <td>98.1</td>\n      <td>98.5</td>\n      <td>97.8</td>\n      <td>0.7</td>\n      <td>2018</td>\n    </tr>\n    <tr>\n      <th>2</th>\n      <td>Algeria</td>\n      <td>81.4</td>\n      <td>87.4</td>\n      <td>75.3</td>\n      <td>12.1</td>\n      <td>2018</td>\n    </tr>\n    <tr>\n      <th>3</th>\n      <td>Andorra</td>\n      <td>100.0</td>\n      <td>100.0</td>\n      <td>100.0</td>\n      <td>0.0</td>\n      <td>2016</td>\n    </tr>\n    <tr>\n      <th>4</th>\n      <td>Angola</td>\n      <td>71.1</td>\n      <td>82.0</td>\n      <td>60.7</td>\n      <td>21.3</td>\n      <td>2015</td>\n    </tr>\n    <tr>\n      <th>...</th>\n      <td>...</td>\n      <td>...</td>\n      <td>...</td>\n      <td>...</td>\n      <td>...</td>\n      <td>...</td>\n    </tr>\n    <tr>\n      <th>191</th>\n      <td>Vietnam</td>\n      <td>95.8</td>\n      <td>97.0</td>\n      <td>94.6</td>\n      <td>2.4</td>\n      <td>2019</td>\n    </tr>\n    <tr>\n      <th>192</th>\n      <td>Yemen</td>\n      <td>70.1</td>\n      <td>85.1</td>\n      <td>55.0</td>\n      <td>30.1</td>\n      <td>2015</td>\n    </tr>\n    <tr>\n      <th>193</th>\n      <td>Zambia</td>\n      <td>86.7</td>\n      <td>90.6</td>\n      <td>83.1</td>\n      <td>7.5</td>\n      <td>2018</td>\n    </tr>\n    <tr>\n      <th>194</th>\n      <td>Zimbabwe</td>\n      <td>86.5</td>\n      <td>88.5</td>\n      <td>84.6</td>\n      <td>3.9</td>\n      <td>2015</td>\n    </tr>\n    <tr>\n      <th>195</th>\n      <td>World</td>\n      <td>86.7</td>\n      <td>90.1</td>\n      <td>83.3</td>\n      <td>6.8</td>\n      <td>2020</td>\n    </tr>\n  </tbody>\n</table>\n<p>196 rows × 6 columns</p>\n</div>"
     },
     "execution_count": 10,
     "metadata": {},
     "output_type": "execute_result"
    }
   ],
   "source": [
    "df[1]"
   ],
   "metadata": {
    "collapsed": false,
    "ExecuteTime": {
     "end_time": "2023-11-29T22:53:34.429635Z",
     "start_time": "2023-11-29T22:53:34.418087Z"
    }
   },
   "id": "1074b712c10bbad7"
  },
  {
   "cell_type": "code",
   "execution_count": null,
   "outputs": [],
   "source": [],
   "metadata": {
    "collapsed": false
   },
   "id": "a575f6e21cbfcae5"
  }
 ],
 "metadata": {
  "kernelspec": {
   "display_name": "Python 3",
   "language": "python",
   "name": "python3"
  },
  "language_info": {
   "codemirror_mode": {
    "name": "ipython",
    "version": 2
   },
   "file_extension": ".py",
   "mimetype": "text/x-python",
   "name": "python",
   "nbconvert_exporter": "python",
   "pygments_lexer": "ipython2",
   "version": "2.7.6"
  }
 },
 "nbformat": 4,
 "nbformat_minor": 5
}
